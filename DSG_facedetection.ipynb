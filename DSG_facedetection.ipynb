{
  "cells": [
    {
      "cell_type": "code",
      "execution_count": null,
      "metadata": {
        "colab": {
          "base_uri": "https://localhost:8080/"
        },
        "id": "ZoaCpgm97PfL",
        "outputId": "09ae31e7-a058-42b7-cf73-12729668f8d3"
      },
      "outputs": [
        {
          "output_type": "stream",
          "name": "stdout",
          "text": [
            "Drive already mounted at /content/drive; to attempt to forcibly remount, call drive.mount(\"/content/drive\", force_remount=True).\n"
          ]
        }
      ],
      "source": [
        "from google.colab import drive\n",
        "drive.mount('/content/drive')"
      ]
    },
    {
      "cell_type": "code",
      "execution_count": null,
      "metadata": {
        "id": "pib_kNy99BID"
      },
      "outputs": [],
      "source": [
        "import os\n",
        "os.environ['KAGGLE_CONFIG_DIR']= '/content/drive/MyDrive/kaggle'"
      ]
    },
    {
      "cell_type": "code",
      "execution_count": null,
      "metadata": {
        "colab": {
          "base_uri": "https://localhost:8080/"
        },
        "id": "x3RoHNmJBRO0",
        "outputId": "126f0ad1-8450-4c9f-9654-3837c96df7a2"
      },
      "outputs": [
        {
          "name": "stdout",
          "output_type": "stream",
          "text": [
            "/content/drive/MyDrive/kaggle\n"
          ]
        }
      ],
      "source": [
        "%cd /content/drive/MyDrive/kaggle"
      ]
    },
    {
      "cell_type": "code",
      "execution_count": null,
      "metadata": {
        "id": "m3UCZ4CjBcbH"
      },
      "outputs": [],
      "source": [
        "!kaggle datasets download -d chazzer/smiling-or-not-face-data"
      ]
    },
    {
      "cell_type": "code",
      "source": [
        "%cp /content/drive/MyDrive/archive.zip ."
      ],
      "metadata": {
        "id": "JeNCM7E8vhU-"
      },
      "execution_count": null,
      "outputs": []
    },
    {
      "cell_type": "code",
      "execution_count": null,
      "metadata": {
        "id": "RjUCvNjNCE9Q"
      },
      "outputs": [],
      "source": [
        "!unzip \\*.zip && rm *.zip"
      ]
    },
    {
      "cell_type": "markdown",
      "source": [
        "**ALGORITHM 1**\n",
        "\n",
        "Facial landmark detector\n",
        "\n",
        "\n",
        "Draws a circle around each landmark"
      ],
      "metadata": {
        "id": "qfmlNNKVa0PT"
      }
    },
    {
      "cell_type": "code",
      "execution_count": null,
      "metadata": {
        "id": "EVC4d4cSO_R7"
      },
      "outputs": [],
      "source": [
        "    def renderfaciallandmarks(image, landmarks):\n",
        "      points=[]\n",
        "\n",
        "      [points.append((p.x, p.y)) for p in landmarks.parts()]   #converts landmarks into an iterable array\n",
        "\n",
        "      for p in points:\n",
        "        cv2.circle(image, (p[0], p[1]), 2, (255,0,0), -1)    #draw a circle around each landmark\n",
        "      return image"
      ]
    },
    {
      "cell_type": "markdown",
      "source": [
        "Returns the coordinates of landmarks of every feature\n"
      ],
      "metadata": {
        "id": "2eWLRK26aRDL"
      }
    },
    {
      "cell_type": "code",
      "execution_count": null,
      "metadata": {
        "id": "zYFB0RISPAKb"
      },
      "outputs": [],
      "source": [
        "    def facelandmarks(image):\n",
        "      detector=dlib.get_frontal_face_detector()  #create object to detect the face\n",
        "      predictor=dlib.shape_predictor(\"/content/drive/MyDrive/kaggle/shape_predictor_68_face_landmarks (1).dat\") #create object to detect facial landmarks\n",
        "      rects=detector(image,0)                    #detect all the faces\n",
        "\n",
        "      landmarksall=[]\n",
        "\n",
        "      #For each face detected in the image, this creates an ROI around the face and pass it as an argument to the\n",
        "      # predictor and append the result to the array landmarks\n",
        "      for i in range (0, len(rects)):\n",
        "        newrect=dlib.rectangle(rects[i].left(),rects[i].top(),rects[i].bottom(), rects[i].right())\n",
        "\n",
        "        landmarks=predictor(image, newrect)\n",
        "        landmarksall.append(landmarks)\n",
        "\n",
        "      return landmarksall"
      ]
    },
    {
      "cell_type": "markdown",
      "source": [
        "Calculates MAR ratio and based on a threshold, classifies the image into smiling and non-smiling"
      ],
      "metadata": {
        "id": "yitrecs6a_mW"
      }
    },
    {
      "cell_type": "code",
      "execution_count": null,
      "metadata": {
        "id": "r1rrrZlPIKQL"
      },
      "outputs": [],
      "source": [
        "import os\n",
        "import cv2\n",
        "import dlib\n",
        "\n",
        "def algorithm1():\n",
        "\n",
        "\n",
        "\n",
        "    path1='/content/drive/MyDrive/kaggle/smile'\n",
        "    path2='/content/drive/MyDrive/kaggle/non_smile'\n",
        "    smile=0\n",
        "    no_smile=0\n",
        "\n",
        "    def ratio(image):\n",
        "        landmarks= facelandmarks(image)    #get landmarks\n",
        "\n",
        "        if landmarks:\n",
        "            facewithlandmarks= renderfaciallandmarks(image, landmarks[0])   #render the landmarks on the first face detected\n",
        "\n",
        "            lipswidth=abs( landmarks[0].parts()[49].x-landmarks[0].parts()[55].x)\n",
        "            jawwidth= abs( landmarks[0].parts()[3].x-landmarks[0].parts()[15].x)\n",
        "\n",
        "            ratio=lipswidth/jawwidth\n",
        "        else:\n",
        "            ratio = 0\n",
        "        return (ratio)\n",
        "\n",
        "    for img in os.listdir(path1):\n",
        "        image=cv2.imread(path1 +'/'+ img)              #read image into a variable\n",
        "        mar=ratio(image)\n",
        "\n",
        "        if (mar>0.32):\n",
        "          #print(mar)\n",
        "          result=\"smile\"\n",
        "          smile+=1\n",
        "\n",
        "    for img in os.listdir(path2):\n",
        "          image=cv2.imread(path2 +'/'+ img)\n",
        "          mar=ratio(image)\n",
        "\n",
        "          if (mar <0.32):\n",
        "            result=\"no smile\"\n",
        "            no_smile+=1\n",
        "\n",
        "    accuracy= (smile + no_smile)/ (len(os.listdir(path1)) + len(os.listdir(path2)))\n",
        "    print(accuracy)\n",
        "algorithm1()"
      ]
    },
    {
      "cell_type": "markdown",
      "source": [
        "Following code prints the images with landmarks\n",
        "\n",
        "4 images are printed out of 5 as the landmarks of one image is not detected"
      ],
      "metadata": {
        "id": "dpLszloCZy37"
      }
    },
    {
      "cell_type": "code",
      "execution_count": null,
      "metadata": {
        "colab": {
          "base_uri": "https://localhost:8080/",
          "height": 273
        },
        "id": "wztGH5x60nzM",
        "outputId": "4cca6aa5-24dc-4560-f2aa-d70cf0b1da64"
      },
      "outputs": [
        {
          "output_type": "display_data",
          "data": {
            "text/plain": [
              "<PIL.Image.Image image mode=RGB size=64x64 at 0x7FED35DFEDF0>"
            ],
            "image/png": "[encoded data removed]"
          },
          "metadata": {}
        },
        {
          "output_type": "display_data",
          "data": {
            "text/plain": [
              "<PIL.Image.Image image mode=RGB size=64x64 at 0x7FED35DFEDF0>"
            ],
            "image/png": "[encoded data removed]"
          },
          "metadata": {}
        },
        {
          "output_type": "display_data",
          "data": {
            "text/plain": [
              "<PIL.Image.Image image mode=RGB size=64x64 at 0x7FED07EEA700>"
            ],
            "image/png": "[encoded data removed]"
          },
          "metadata": {}
        },
        {
          "output_type": "display_data",
          "data": {
            "text/plain": [
              "<PIL.Image.Image image mode=RGB size=64x64 at 0x7FED07EEA670>"
            ],
            "image/png": "[encoded data removed]"
          },
          "metadata": {}
        }
      ],
      "source": [
        "from google.colab.patches import cv2_imshow\n",
        "import os\n",
        "path1='/content/drive/MyDrive/kaggle/smile'\n",
        "img_list=[]\n",
        "img=os.listdir(path1)\n",
        "for image in img:\n",
        "  imgpath=path1+'/'+image\n",
        "  img_list.append(cv2.imread(imgpath))\n",
        "\n",
        "for i in range(5):\n",
        "  landmarks = facelandmarks(img_list[i])\n",
        "  if len(landmarks)>0:\n",
        "      img = renderfaciallandmarks(img_list[i], landmarks[0])\n",
        "      cv2_imshow(img)"
      ]
    },
    {
      "cell_type": "markdown",
      "source": [
        "**ALGORITHM 2**\n",
        "\n",
        "Haar Cascading\n",
        "\n",
        "No output is shown as model is not able to read xml files uploaded"
      ],
      "metadata": {
        "id": "-tI-cjhhbiVJ"
      }
    },
    {
      "cell_type": "code",
      "execution_count": null,
      "metadata": {
        "id": "CAV7JmIXTpyQ"
      },
      "outputs": [],
      "source": [
        "import cv2\n",
        "import os\n",
        "def algorithm2():\n",
        "  smile=0\n",
        "  no_smile=0\n",
        "\n",
        "  facecascade=cv2.CascadeClassifier(\"/content/drive/MyDrive/kaggle/haarcascade_frontalface_default.xml\")\n",
        "  smilecascade=cv2.CascadeClassifier(\"/content/drive/MyDrive/kaggle/haarcascade_smile.xml\")\n",
        "\n",
        "  path1='/content/drive/MyDrive/kaggle/smile'\n",
        "  path2='/content/drive/MyDrive/kaggle/non_smile'\n",
        "  for img in os.listdir(path1):\n",
        "      image=cv2.imread(path1 +'/'+ img)\n",
        "      print(image)           #read image into a variable\n",
        "      gray=cv2.cvtColor(image, cv2.COLOR_BGR2GRAY)  #convert into grayscale\n",
        "      faces=facecascade.detectMultiScale(gray, scaleFactor=1.3, minNeighbors=5, minSize=(30,30))\n",
        "\n",
        "      for(x,y,w,h) in faces:\n",
        "        cv2.rectangle(image, (x,y), (x+w, y+h), (255,0,0), 2)        #draw  rectangle around face\n",
        "\n",
        "        roi_gray=gray[y:y+h, x:x+w]\n",
        "\n",
        "        smiles=smilecascade.detectMultiScale(roi_gray, scaleFactor=1.5, minNeighbors=15, minSize=(25,25))\n",
        "\n",
        "        if smiles:\n",
        "          smile+=1\n",
        "          for (sx, sy, sw, sh) in smiles:\n",
        "            cv2.rectangle(image, (sx,sy),(sx+sw, sy+sh), (0,255,0), 2)\n",
        "            print(\"smile\")\n",
        "            cv2.putText(image, \"smiling\", (x, y-30), cv2.FONT_HERSHEY_SIMPLEX, 2, (0,255,0), 3, cv2.LINE_AA)\n",
        "\n",
        "        else:\n",
        "          no_smile+=1\n",
        "\n",
        "  for img in os.listdir(path2):\n",
        "      image=cv2.imread(path2 +'/'+ img)\n",
        "      print(image)           #read image into a variable\n",
        "      gray=cv2.cvtColor(image, cv2.COLOR_BGR2GRAY)  #convert into grayscale\n",
        "      faces=facecascade.detectMultiScale(gray, scaleFactor=1.3, minNeighbors=5, minSize=(30,30))\n",
        "\n",
        "      for(x,y,w,h) in faces:\n",
        "        cv2.rectangle(image, (x,y), (x+w, y+h), (255,0,0), 2)        #draw  rectangle around face\n",
        "\n",
        "        roi_gray=gray[y:y+h, x:x+w]\n",
        "\n",
        "        smiles=smilecascade.detectMultiScale(roi_gray, scaleFactor=1.5, minNeighbors=15, minSize=(25,25))\n",
        "\n",
        "        if smiles:\n",
        "          smile+=1\n",
        "          for (sx, sy, sw, sh) in smiles:\n",
        "            cv2.rectangle(image, (sx,sy),(sx+sw, sy+sh), (0,255,0), 2)\n",
        "            print(\"smile\")\n",
        "            cv2.putText(image, \"smiling\", (x, y-30), cv2.FONT_HERSHEY_SIMPLEX, 2, (0,255,0), 3, cv2.LINE_AA)\n",
        "\n",
        "        else:\n",
        "          no_smile+=1\n",
        "\n",
        "  accuracy=(smile+no_smile)/(len(os.listdir(path1))+ len(os.listdir(path2)))\n",
        "  print(accuracy)\n",
        "\n",
        "algorithm2()"
      ]
    },
    {
      "cell_type": "markdown",
      "source": [
        "**ALGORITHM 3**\n",
        "\n",
        "CNN\n",
        "\n",
        "Dataset is divided into training and validation set"
      ],
      "metadata": {
        "id": "e7gN8hHlb9Nu"
      }
    },
    {
      "cell_type": "code",
      "execution_count": null,
      "metadata": {
        "colab": {
          "base_uri": "https://localhost:8080/"
        },
        "id": "qyzkhfy_TG7H",
        "outputId": "9e5f5b65-6561-49a5-9f85-055bc9c4f155"
      },
      "outputs": [
        {
          "output_type": "stream",
          "name": "stdout",
          "text": [
            "(1203, 3, 64, 64)\n",
            "(1082, 3, 64, 64) (1082,)\n",
            "torch.Size([1082, 3, 64, 64]) torch.Size([1082])\n",
            "torch.Size([121, 3, 64, 64]) torch.Size([121])\n"
          ]
        }
      ],
      "source": [
        "import os\n",
        "import cv2\n",
        "import numpy as np\n",
        "import torch\n",
        "\n",
        "\n",
        "\n",
        "train_img=[]\n",
        "label=[]\n",
        "\n",
        "path1='/content/drive/MyDrive/kaggle/smile'\n",
        "path2='/content/drive/MyDrive/kaggle/non_smile'\n",
        "\n",
        "for img_name in os.listdir(path1):\n",
        "\n",
        "  img=cv2.imread(path1 + '/'+img_name)\n",
        "  train_img.append(img)\n",
        "  label.append(1)\n",
        "\n",
        "for img_name in os.listdir(path2):\n",
        "\n",
        "  img=cv2.imread(path2 + '/'+img_name)\n",
        "  train_img.append(img)\n",
        "  label.append(0)\n",
        "\n",
        "train_x=np.array(train_img, dtype=np.float32)\n",
        "train_x = train_x.reshape(len(train_x),3,64,64)\n",
        "train_y=np.array(label)\n",
        "print(train_x.shape)\n",
        "\n",
        "from sklearn.model_selection import train_test_split\n",
        "\n",
        "train_x, val_x, train_y, val_y= train_test_split(train_x, train_y, test_size=0.1)\n",
        "\n",
        "print(train_x.shape, train_y.shape)\n",
        "\n",
        "train_x=torch.from_numpy(train_x)\n",
        "\n",
        "train_y=train_y\n",
        "train_y=torch.from_numpy(train_y)\n",
        "print(train_x.shape, train_y.shape)\n",
        "\n",
        "val_x=torch.from_numpy(val_x)\n",
        "val_y=val_y\n",
        "val_y=torch.from_numpy(val_y)\n",
        "\n",
        "print(val_x.shape, val_y.shape)"
      ]
    },
    {
      "cell_type": "markdown",
      "source": [
        "Model architecture is defined- with 2 convolutional layers as of now"
      ],
      "metadata": {
        "id": "DrBGK1n5cXDO"
      }
    },
    {
      "cell_type": "code",
      "execution_count": null,
      "metadata": {
        "id": "v48vUxoojCnp"
      },
      "outputs": [],
      "source": [
        "\n",
        "from torch.nn import Linear, ReLU, CrossEntropyLoss, Sequential, Conv2d, MaxPool2d, Module, Softmax, BatchNorm2d,Dropout, BatchNorm1d\n",
        "class Net(Module):\n",
        "  def __init__(self):\n",
        "    super(Net,self).__init__()\n",
        "\n",
        "    self.cnn_layers= Sequential( Conv2d(3,4,kernel_size=3, stride=1, padding=1),\n",
        "                                BatchNorm2d(4),\n",
        "                                ReLU(inplace=True),\n",
        "                                MaxPool2d(kernel_size=2, stride=2),\n",
        "                                Conv2d(4,4,kernel_size=3, stride=1, padding=1),\n",
        "                                BatchNorm2d(4),\n",
        "                                ReLU(inplace=True),\n",
        "                                MaxPool2d(kernel_size=2, stride=2),\n",
        "                                Conv2d(4,6,kernel_size=3, stride=1, padding=1),\n",
        "                                BatchNorm2d(6),\n",
        "                                ReLU(inplace=True),\n",
        "                                MaxPool2d(kernel_size=2, stride=2),\n",
        "                                Conv2d(6,6,kernel_size=3, stride=1, padding=1),\n",
        "                                BatchNorm2d(6),\n",
        "                                ReLU(inplace=True),\n",
        "                                MaxPool2d(kernel_size=2, stride=2))\n",
        "\n",
        "    self.linear_layers=Sequential(\n",
        "        Linear(4*4*6, 1024),\n",
        "        BatchNorm1d(1024),\n",
        "        ReLU(inplace = True),\n",
        "        Linear(1024,2)\n",
        "    )\n",
        "\n",
        "  def forward(self, x):\n",
        "      x=self.cnn_layers(x)\n",
        "      print(x.shape)\n",
        "      x=x.view(x.size(0),-1)\n",
        "      x=self.linear_layers(x)\n",
        "      return x\n"
      ]
    },
    {
      "cell_type": "markdown",
      "source": [
        "Model is optimized"
      ],
      "metadata": {
        "id": "WhuANBX2dWmz"
      }
    },
    {
      "cell_type": "code",
      "execution_count": null,
      "metadata": {
        "colab": {
          "base_uri": "https://localhost:8080/"
        },
        "id": "7p9nUfvGoBV2",
        "outputId": "58d95df4-b4fa-4741-97e3-5bccedf2bc1a"
      },
      "outputs": [
        {
          "output_type": "stream",
          "name": "stdout",
          "text": [
            "Net(\n",
            "  (cnn_layers): Sequential(\n",
            "    (0): Conv2d(3, 4, kernel_size=(3, 3), stride=(1, 1), padding=(1, 1))\n",
            "    (1): BatchNorm2d(4, eps=1e-05, momentum=0.1, affine=True, track_running_stats=True)\n",
            "    (2): ReLU(inplace=True)\n",
            "    (3): MaxPool2d(kernel_size=2, stride=2, padding=0, dilation=1, ceil_mode=False)\n",
            "    (4): Conv2d(4, 4, kernel_size=(3, 3), stride=(1, 1), padding=(1, 1))\n",
            "    (5): BatchNorm2d(4, eps=1e-05, momentum=0.1, affine=True, track_running_stats=True)\n",
            "    (6): ReLU(inplace=True)\n",
            "    (7): MaxPool2d(kernel_size=2, stride=2, padding=0, dilation=1, ceil_mode=False)\n",
            "    (8): Conv2d(4, 6, kernel_size=(3, 3), stride=(1, 1), padding=(1, 1))\n",
            "    (9): BatchNorm2d(6, eps=1e-05, momentum=0.1, affine=True, track_running_stats=True)\n",
            "    (10): ReLU(inplace=True)\n",
            "    (11): MaxPool2d(kernel_size=2, stride=2, padding=0, dilation=1, ceil_mode=False)\n",
            "    (12): Conv2d(6, 6, kernel_size=(3, 3), stride=(1, 1), padding=(1, 1))\n",
            "    (13): BatchNorm2d(6, eps=1e-05, momentum=0.1, affine=True, track_running_stats=True)\n",
            "    (14): ReLU(inplace=True)\n",
            "    (15): MaxPool2d(kernel_size=2, stride=2, padding=0, dilation=1, ceil_mode=False)\n",
            "  )\n",
            "  (linear_layers): Sequential(\n",
            "    (0): Linear(in_features=96, out_features=1024, bias=True)\n",
            "    (1): BatchNorm1d(1024, eps=1e-05, momentum=0.1, affine=True, track_running_stats=True)\n",
            "    (2): ReLU(inplace=True)\n",
            "    (3): Linear(in_features=1024, out_features=2, bias=True)\n",
            "  )\n",
            ")\n"
          ]
        }
      ],
      "source": [
        "from torch.optim import Adam\n",
        "model=Net()\n",
        "optimizer=Adam(model.parameters(), lr=0.07)\n",
        "criterion=CrossEntropyLoss()\n",
        "\n",
        "if torch.cuda.is_available():\n",
        "  model=model.cuda()\n",
        "  criterion=criterion.cuda()\n",
        "\n",
        "print(model)\n"
      ]
    },
    {
      "cell_type": "markdown",
      "source": [
        "Model is trained and validation losses are printed\n"
      ],
      "metadata": {
        "id": "wYXMWHGuoHyO"
      }
    },
    {
      "cell_type": "code",
      "execution_count": null,
      "metadata": {
        "colab": {
          "base_uri": "https://localhost:8080/"
        },
        "id": "QF5Q995Q2Qm8",
        "outputId": "954763f0-eede-44a3-d7e2-030814cec0cd"
      },
      "outputs": [
        {
          "output_type": "stream",
          "name": "stdout",
          "text": [
            "torch.Size([1082, 6, 4, 4])\n",
            "torch.Size([121, 6, 4, 4])\n",
            "epoch: 1 \t loss: tensor(0.7283, grad_fn=<NllLossBackward0>)\n",
            "torch.Size([1082, 6, 4, 4])\n",
            "torch.Size([121, 6, 4, 4])\n",
            "torch.Size([1082, 6, 4, 4])\n",
            "torch.Size([121, 6, 4, 4])\n",
            "epoch: 3 \t loss: tensor(10.8768, grad_fn=<NllLossBackward0>)\n",
            "torch.Size([1082, 6, 4, 4])\n",
            "torch.Size([121, 6, 4, 4])\n",
            "torch.Size([1082, 6, 4, 4])\n",
            "torch.Size([121, 6, 4, 4])\n",
            "epoch: 5 \t loss: tensor(5.4547, grad_fn=<NllLossBackward0>)\n",
            "torch.Size([1082, 6, 4, 4])\n",
            "torch.Size([121, 6, 4, 4])\n",
            "torch.Size([1082, 6, 4, 4])\n",
            "torch.Size([121, 6, 4, 4])\n",
            "epoch: 7 \t loss: tensor(5.1318, grad_fn=<NllLossBackward0>)\n",
            "torch.Size([1082, 6, 4, 4])\n",
            "torch.Size([121, 6, 4, 4])\n",
            "torch.Size([1082, 6, 4, 4])\n",
            "torch.Size([121, 6, 4, 4])\n",
            "epoch: 9 \t loss: tensor(3.5484, grad_fn=<NllLossBackward0>)\n",
            "torch.Size([1082, 6, 4, 4])\n",
            "torch.Size([121, 6, 4, 4])\n",
            "torch.Size([1082, 6, 4, 4])\n",
            "torch.Size([121, 6, 4, 4])\n",
            "epoch: 11 \t loss: tensor(1.5672, grad_fn=<NllLossBackward0>)\n",
            "torch.Size([1082, 6, 4, 4])\n",
            "torch.Size([121, 6, 4, 4])\n",
            "torch.Size([1082, 6, 4, 4])\n",
            "torch.Size([121, 6, 4, 4])\n",
            "epoch: 13 \t loss: tensor(1.3606, grad_fn=<NllLossBackward0>)\n",
            "torch.Size([1082, 6, 4, 4])\n",
            "torch.Size([121, 6, 4, 4])\n",
            "torch.Size([1082, 6, 4, 4])\n",
            "torch.Size([121, 6, 4, 4])\n",
            "epoch: 15 \t loss: tensor(1.0516, grad_fn=<NllLossBackward0>)\n",
            "torch.Size([1082, 6, 4, 4])\n",
            "torch.Size([121, 6, 4, 4])\n",
            "torch.Size([1082, 6, 4, 4])\n",
            "torch.Size([121, 6, 4, 4])\n",
            "epoch: 17 \t loss: tensor(0.6992, grad_fn=<NllLossBackward0>)\n",
            "torch.Size([1082, 6, 4, 4])\n",
            "torch.Size([121, 6, 4, 4])\n",
            "torch.Size([1082, 6, 4, 4])\n",
            "torch.Size([121, 6, 4, 4])\n",
            "epoch: 19 \t loss: tensor(0.9157, grad_fn=<NllLossBackward0>)\n",
            "torch.Size([1082, 6, 4, 4])\n",
            "torch.Size([121, 6, 4, 4])\n",
            "torch.Size([1082, 6, 4, 4])\n",
            "torch.Size([121, 6, 4, 4])\n",
            "epoch: 21 \t loss: tensor(0.7316, grad_fn=<NllLossBackward0>)\n",
            "torch.Size([1082, 6, 4, 4])\n",
            "torch.Size([121, 6, 4, 4])\n",
            "torch.Size([1082, 6, 4, 4])\n",
            "torch.Size([121, 6, 4, 4])\n",
            "epoch: 23 \t loss: tensor(0.6768, grad_fn=<NllLossBackward0>)\n",
            "torch.Size([1082, 6, 4, 4])\n",
            "torch.Size([121, 6, 4, 4])\n",
            "torch.Size([1082, 6, 4, 4])\n",
            "torch.Size([121, 6, 4, 4])\n",
            "epoch: 25 \t loss: tensor(0.7949, grad_fn=<NllLossBackward0>)\n",
            "torch.Size([1082, 6, 4, 4])\n",
            "torch.Size([121, 6, 4, 4])\n",
            "torch.Size([1082, 6, 4, 4])\n",
            "torch.Size([121, 6, 4, 4])\n",
            "epoch: 27 \t loss: tensor(0.7010, grad_fn=<NllLossBackward0>)\n",
            "torch.Size([1082, 6, 4, 4])\n",
            "torch.Size([121, 6, 4, 4])\n",
            "torch.Size([1082, 6, 4, 4])\n",
            "torch.Size([121, 6, 4, 4])\n",
            "epoch: 29 \t loss: tensor(0.6826, grad_fn=<NllLossBackward0>)\n",
            "torch.Size([1082, 6, 4, 4])\n",
            "torch.Size([121, 6, 4, 4])\n",
            "torch.Size([1082, 6, 4, 4])\n",
            "torch.Size([121, 6, 4, 4])\n",
            "epoch: 31 \t loss: tensor(0.8213, grad_fn=<NllLossBackward0>)\n",
            "torch.Size([1082, 6, 4, 4])\n",
            "torch.Size([121, 6, 4, 4])\n",
            "torch.Size([1082, 6, 4, 4])\n",
            "torch.Size([121, 6, 4, 4])\n",
            "epoch: 33 \t loss: tensor(0.6878, grad_fn=<NllLossBackward0>)\n",
            "torch.Size([1082, 6, 4, 4])\n",
            "torch.Size([121, 6, 4, 4])\n",
            "torch.Size([1082, 6, 4, 4])\n",
            "torch.Size([121, 6, 4, 4])\n",
            "epoch: 35 \t loss: tensor(0.6846, grad_fn=<NllLossBackward0>)\n",
            "torch.Size([1082, 6, 4, 4])\n",
            "torch.Size([121, 6, 4, 4])\n",
            "torch.Size([1082, 6, 4, 4])\n",
            "torch.Size([121, 6, 4, 4])\n",
            "epoch: 37 \t loss: tensor(0.7946, grad_fn=<NllLossBackward0>)\n",
            "torch.Size([1082, 6, 4, 4])\n",
            "torch.Size([121, 6, 4, 4])\n",
            "torch.Size([1082, 6, 4, 4])\n",
            "torch.Size([121, 6, 4, 4])\n",
            "epoch: 39 \t loss: tensor(0.6856, grad_fn=<NllLossBackward0>)\n",
            "torch.Size([1082, 6, 4, 4])\n",
            "torch.Size([121, 6, 4, 4])\n",
            "torch.Size([1082, 6, 4, 4])\n",
            "torch.Size([121, 6, 4, 4])\n",
            "epoch: 41 \t loss: tensor(0.6837, grad_fn=<NllLossBackward0>)\n",
            "torch.Size([1082, 6, 4, 4])\n",
            "torch.Size([121, 6, 4, 4])\n",
            "torch.Size([1082, 6, 4, 4])\n",
            "torch.Size([121, 6, 4, 4])\n",
            "epoch: 43 \t loss: tensor(0.7501, grad_fn=<NllLossBackward0>)\n",
            "torch.Size([1082, 6, 4, 4])\n",
            "torch.Size([121, 6, 4, 4])\n",
            "torch.Size([1082, 6, 4, 4])\n",
            "torch.Size([121, 6, 4, 4])\n",
            "epoch: 45 \t loss: tensor(0.6859, grad_fn=<NllLossBackward0>)\n",
            "torch.Size([1082, 6, 4, 4])\n",
            "torch.Size([121, 6, 4, 4])\n",
            "torch.Size([1082, 6, 4, 4])\n",
            "torch.Size([121, 6, 4, 4])\n",
            "epoch: 47 \t loss: tensor(0.6971, grad_fn=<NllLossBackward0>)\n",
            "torch.Size([1082, 6, 4, 4])\n",
            "torch.Size([121, 6, 4, 4])\n",
            "torch.Size([1082, 6, 4, 4])\n",
            "torch.Size([121, 6, 4, 4])\n",
            "epoch: 49 \t loss: tensor(0.7041, grad_fn=<NllLossBackward0>)\n",
            "torch.Size([1082, 6, 4, 4])\n",
            "torch.Size([121, 6, 4, 4])\n"
          ]
        }
      ],
      "source": [
        "from torch.autograd import Variable\n",
        "def train(epoch):\n",
        "  model.train()\n",
        "  tr_loss=0\n",
        "  x_train, y_train=Variable(train_x), Variable(train_y)\n",
        "  x_val, y_val=Variable(val_x), Variable(val_y)\n",
        "\n",
        "  if torch.cuda.is_available():\n",
        "    x_train=x_train.cuda()\n",
        "    y_train=y_train.cuda()\n",
        "    x_val=x_val.cuda()\n",
        "    y_val=y_val.cuda()\n",
        "\n",
        "  optimizer.zero_grad()\n",
        "  output_train=model(x_train)\n",
        "  output_val=model(x_val)\n",
        "\n",
        "  loss_train=criterion(output_train, y_train)\n",
        "  loss_val=criterion(output_val, y_val)\n",
        "\n",
        "  train_losses.append(loss_train.item())\n",
        "  val_losses.append(loss_val.item())\n",
        "\n",
        "  loss_train.backward()\n",
        "  optimizer.step()\n",
        "  tr_loss=loss_train.item()\n",
        "\n",
        "  if epoch%2==0:\n",
        "    print('epoch:', epoch+1, '\\t', 'loss:', loss_val)\n",
        "\n",
        "train_losses=[]\n",
        "val_losses=[]\n",
        "n_epochs=50\n",
        "for epoch in range(n_epochs):\n",
        "  train(epoch)"
      ]
    },
    {
      "cell_type": "markdown",
      "source": [
        "A visual plot of validation and training losses\n"
      ],
      "metadata": {
        "id": "QQG-y3_ooLE2"
      }
    },
    {
      "cell_type": "code",
      "execution_count": null,
      "metadata": {
        "colab": {
          "base_uri": "https://localhost:8080/",
          "height": 430
        },
        "id": "usIVWY2SV_Ap",
        "outputId": "d73b8c7c-ae7d-4547-f110-f25c49c54e42"
      },
      "outputs": [
        {
          "output_type": "display_data",
          "data": {
            "text/plain": [
              "<Figure size 640x480 with 1 Axes>"
            ],
            "image/png": "[encoded data removed]"
          },
          "metadata": {}
        }
      ],
      "source": [
        "import matplotlib.pyplot as plt\n",
        "\n",
        "plt.plot(train_losses, label='Training loss')\n",
        "plt.plot(val_losses, label='Validation loss')\n",
        "plt.legend()\n",
        "plt.show()"
      ]
    },
    {
      "cell_type": "markdown",
      "source": [
        "Accuracy of training set\n"
      ],
      "metadata": {
        "id": "kX4mqcTroeZm"
      }
    },
    {
      "cell_type": "code",
      "execution_count": null,
      "metadata": {
        "id": "HMlxSM7WXR31",
        "colab": {
          "base_uri": "https://localhost:8080/"
        },
        "outputId": "cac523ec-d0f2-4c0f-a54d-deaa929f006b"
      },
      "outputs": [
        {
          "output_type": "stream",
          "name": "stdout",
          "text": [
            "torch.Size([1082, 6, 4, 4])\n",
            "0.5406654343807763\n"
          ]
        }
      ],
      "source": [
        "from sklearn.metrics import accuracy_score\n",
        "with torch.no_grad():\n",
        "  output= model(train_x)\n",
        "\n",
        "softmax=torch.exp(output).cpu()\n",
        "prob=list(softmax.numpy())\n",
        "predictions=np.argmax(prob, axis=1)\n",
        "\n",
        "acc=accuracy_score(train_y, predictions)\n",
        "print(acc)"
      ]
    },
    {
      "cell_type": "markdown",
      "source": [
        "Training losses are printed"
      ],
      "metadata": {
        "id": "UQz0VW08oiDb"
      }
    },
    {
      "cell_type": "code",
      "execution_count": null,
      "metadata": {
        "colab": {
          "base_uri": "https://localhost:8080/"
        },
        "id": "CrpsfUsp1LR1",
        "outputId": "ab154e17-6c7b-4a1b-e549-17c9c20274c3"
      },
      "outputs": [
        {
          "output_type": "execute_result",
          "data": {
            "text/plain": [
              "[tensor(0.7761, grad_fn=<NllLossBackward0>),\n",
              " tensor(40.9982, grad_fn=<NllLossBackward0>),\n",
              " tensor(15.0653, grad_fn=<NllLossBackward0>),\n",
              " tensor(1.2545, grad_fn=<NllLossBackward0>),\n",
              " tensor(7.8457, grad_fn=<NllLossBackward0>),\n",
              " tensor(7.9267, grad_fn=<NllLossBackward0>),\n",
              " tensor(5.2552, grad_fn=<NllLossBackward0>),\n",
              " tensor(2.2164, grad_fn=<NllLossBackward0>),\n",
              " tensor(0.7838, grad_fn=<NllLossBackward0>),\n",
              " tensor(1.2188, grad_fn=<NllLossBackward0>),\n",
              " tensor(1.3031, grad_fn=<NllLossBackward0>),\n",
              " tensor(1.1585, grad_fn=<NllLossBackward0>),\n",
              " tensor(0.9640, grad_fn=<NllLossBackward0>),\n",
              " tensor(0.8188, grad_fn=<NllLossBackward0>),\n",
              " tensor(0.7399, grad_fn=<NllLossBackward0>),\n",
              " tensor(0.7090, grad_fn=<NllLossBackward0>),\n",
              " tensor(0.7000, grad_fn=<NllLossBackward0>),\n",
              " tensor(0.6980, grad_fn=<NllLossBackward0>),\n",
              " tensor(0.6973, grad_fn=<NllLossBackward0>),\n",
              " tensor(0.6968, grad_fn=<NllLossBackward0>),\n",
              " tensor(0.6962, grad_fn=<NllLossBackward0>),\n",
              " tensor(0.6956, grad_fn=<NllLossBackward0>),\n",
              " tensor(0.6951, grad_fn=<NllLossBackward0>),\n",
              " tensor(0.6946, grad_fn=<NllLossBackward0>),\n",
              " tensor(0.6941, grad_fn=<NllLossBackward0>),\n",
              " tensor(0.6938, grad_fn=<NllLossBackward0>),\n",
              " tensor(0.6935, grad_fn=<NllLossBackward0>),\n",
              " tensor(0.6933, grad_fn=<NllLossBackward0>),\n",
              " tensor(0.6932, grad_fn=<NllLossBackward0>),\n",
              " tensor(0.6932, grad_fn=<NllLossBackward0>),\n",
              " tensor(0.6931, grad_fn=<NllLossBackward0>),\n",
              " tensor(0.6932, grad_fn=<NllLossBackward0>),\n",
              " tensor(0.6932, grad_fn=<NllLossBackward0>),\n",
              " tensor(0.6933, grad_fn=<NllLossBackward0>),\n",
              " tensor(0.6934, grad_fn=<NllLossBackward0>),\n",
              " tensor(0.6934, grad_fn=<NllLossBackward0>),\n",
              " tensor(0.6935, grad_fn=<NllLossBackward0>),\n",
              " tensor(0.6936, grad_fn=<NllLossBackward0>),\n",
              " tensor(0.6936, grad_fn=<NllLossBackward0>),\n",
              " tensor(0.6936, grad_fn=<NllLossBackward0>),\n",
              " tensor(0.6936, grad_fn=<NllLossBackward0>),\n",
              " tensor(0.6936, grad_fn=<NllLossBackward0>),\n",
              " tensor(0.6936, grad_fn=<NllLossBackward0>),\n",
              " tensor(0.6935, grad_fn=<NllLossBackward0>),\n",
              " tensor(0.6935, grad_fn=<NllLossBackward0>),\n",
              " tensor(0.6934, grad_fn=<NllLossBackward0>),\n",
              " tensor(0.6934, grad_fn=<NllLossBackward0>),\n",
              " tensor(0.6933, grad_fn=<NllLossBackward0>),\n",
              " tensor(0.6933, grad_fn=<NllLossBackward0>),\n",
              " tensor(0.6932, grad_fn=<NllLossBackward0>)]"
            ]
          },
          "metadata": {},
          "execution_count": 18
        }
      ],
      "source": [
        "train_losses"
      ]
    },
    {
      "cell_type": "markdown",
      "source": [
        "Accuracy of validation set"
      ],
      "metadata": {
        "id": "qsPmXb59olRO"
      }
    },
    {
      "cell_type": "code",
      "execution_count": null,
      "metadata": {
        "id": "mEfXteGbgirS",
        "colab": {
          "base_uri": "https://localhost:8080/"
        },
        "outputId": "ca2aa5d6-6abb-47dc-f3cf-0e63f565a832"
      },
      "outputs": [
        {
          "output_type": "stream",
          "name": "stdout",
          "text": [
            "torch.Size([121, 6, 4, 4])\n",
            "0.5041322314049587\n"
          ]
        }
      ],
      "source": [
        "with torch.no_grad():\n",
        "  output=model(val_x)\n",
        "\n",
        "softmax=torch.exp(output).cpu()\n",
        "prob=list(softmax.numpy())\n",
        "predictions=np.argmax(prob, axis=1)\n",
        "\n",
        "val_acc=accuracy_score(val_y, predictions)\n",
        "print(val_acc)"
      ]
    }
  ],
  "metadata": {
    "colab": {
      "provenance": []
    },
    "kernelspec": {
      "display_name": "Python 3",
      "name": "python3"
    },
    "language_info": {
      "name": "python"
    }
  },
  "nbformat": 4,
  "nbformat_minor": 0
}