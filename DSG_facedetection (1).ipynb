{
  "cells": [
    {
      "cell_type": "code",
      "execution_count": null,
      "metadata": {
        "colab": {
          "base_uri": "https://localhost:8080/"
        },
        "id": "ZoaCpgm97PfL",
        "outputId": "013ffbd3-cd0f-407c-88cb-46c047280b22"
      },
      "outputs": [
        {
          "output_type": "stream",
          "name": "stdout",
          "text": [
            "Mounted at /content/drive\n"
          ]
        }
      ],
      "source": [
        "from google.colab import drive\n",
        "drive.mount('/content/drive')"
      ]
    },
    {
      "cell_type": "code",
      "execution_count": null,
      "metadata": {
        "id": "pib_kNy99BID"
      },
      "outputs": [],
      "source": [
        "import os\n",
        "os.environ['KAGGLE_CONFIG_DIR']= '/content/drive/MyDrive/kaggle'"
      ]
    },
    {
      "cell_type": "code",
      "execution_count": null,
      "metadata": {
        "colab": {
          "base_uri": "https://localhost:8080/"
        },
        "id": "x3RoHNmJBRO0",
        "outputId": "cf33efd3-c6e3-4358-ff8e-d7fa56b50e0e"
      },
      "outputs": [
        {
          "output_type": "stream",
          "name": "stdout",
          "text": [
            "/content/drive/MyDrive/kaggle\n"
          ]
        }
      ],
      "source": [
        "%cd /content/drive/MyDrive/kaggle"
      ]
    },
    {
      "cell_type": "code",
      "execution_count": null,
      "metadata": {
        "id": "m3UCZ4CjBcbH"
      },
      "outputs": [],
      "source": [
        "!kaggle datasets download -d chazzer/smiling-or-not-face-data"
      ]
    },
    {
      "cell_type": "code",
      "source": [
        "%cp /content/drive/MyDrive/archive.zip ."
      ],
      "metadata": {
        "id": "JeNCM7E8vhU-"
      },
      "execution_count": null,
      "outputs": []
    },
    {
      "cell_type": "code",
      "execution_count": null,
      "metadata": {
        "id": "RjUCvNjNCE9Q"
      },
      "outputs": [],
      "source": [
        "!unzip \\*.zip && rm *.zip"
      ]
    },
    {
      "cell_type": "markdown",
      "source": [
        "**ALGORITHM 1**\n",
        "\n",
        "Facial landmark detector\n",
        "\n",
        "\n",
        "Draws a circle around each landmark"
      ],
      "metadata": {
        "id": "qfmlNNKVa0PT"
      }
    },
    {
      "cell_type": "code",
      "execution_count": null,
      "metadata": {
        "id": "EVC4d4cSO_R7"
      },
      "outputs": [],
      "source": [
        "    def renderfaciallandmarks(image, landmarks):\n",
        "      points=[]\n",
        "\n",
        "      [points.append((p.x, p.y)) for p in landmarks.parts()]   #converts landmarks into an iterable array\n",
        "\n",
        "      for p in points:\n",
        "        cv2.circle(image, (p[0], p[1]), 2, (255,0,0), -1)    #draw a circle around each landmark\n",
        "      return image"
      ]
    },
    {
      "cell_type": "markdown",
      "source": [
        "Returns the coordinates of landmarks of every feature\n"
      ],
      "metadata": {
        "id": "2eWLRK26aRDL"
      }
    },
    {
      "cell_type": "code",
      "execution_count": null,
      "metadata": {
        "id": "zYFB0RISPAKb"
      },
      "outputs": [],
      "source": [
        "    def facelandmarks(image):\n",
        "      detector=dlib.get_frontal_face_detector()  #create object to detect the face\n",
        "      predictor=dlib.shape_predictor(\"/content/drive/MyDrive/kaggle/shape_predictor_68_face_landmarks (1).dat\") #create object to detect facial landmarks\n",
        "      rects=detector(image,0)                    #detect all the faces\n",
        "\n",
        "      landmarksall=[]\n",
        "\n",
        "      #For each face detected in the image, this creates an ROI around the face and pass it as an argument to the\n",
        "      # predictor and append the result to the array landmarks\n",
        "      for i in range (0, len(rects)):\n",
        "        newrect=dlib.rectangle(rects[i].left(),rects[i].top(),rects[i].bottom(), rects[i].right())\n",
        "\n",
        "        landmarks=predictor(image, newrect)\n",
        "        landmarksall.append(landmarks)\n",
        "\n",
        "      return landmarksall"
      ]
    },
    {
      "cell_type": "markdown",
      "source": [
        "Calculates MAR ratio and based on a threshold, classifies the image into smiling and non-smiling"
      ],
      "metadata": {
        "id": "yitrecs6a_mW"
      }
    },
    {
      "cell_type": "code",
      "execution_count": null,
      "metadata": {
        "id": "r1rrrZlPIKQL",
        "colab": {
          "base_uri": "https://localhost:8080/"
        },
        "outputId": "d79aa7bc-2aea-4970-81de-b51d83271570"
      },
      "outputs": [
        {
          "output_type": "stream",
          "name": "stdout",
          "text": [
            "0.825\n"
          ]
        }
      ],
      "source": [
        "import os\n",
        "import cv2\n",
        "import dlib\n",
        "\n",
        "def ratio(image):\n",
        "    landmarks= facelandmarks(image)    #get landmarks\n",
        "\n",
        "    if landmarks:\n",
        "        facewithlandmarks= renderfaciallandmarks(image, landmarks[0])   #render the landmarks on the first face detected\n",
        "\n",
        "        lipswidth=abs( landmarks[0].parts()[49].x-landmarks[0].parts()[55].x)\n",
        "        jawwidth= abs( landmarks[0].parts()[3].x-landmarks[0].parts()[15].x)\n",
        "\n",
        "        ratio=lipswidth/jawwidth\n",
        "    else:\n",
        "        ratio = 0\n",
        "    return (ratio)\n",
        "\n",
        "def algorithm1():\n",
        "    path1='/content/drive/MyDrive/kaggle/smile'\n",
        "    path2='/content/drive/MyDrive/kaggle/non_smile'\n",
        "    smile=0\n",
        "    no_smile=0\n",
        "\n",
        "    for img in os.listdir(path1)[:20]:\n",
        "        image=cv2.imread(path1 +'/'+ img)              #read image into a variable\n",
        "        mar=ratio(image)\n",
        "\n",
        "        if (mar>0.32):\n",
        "          #print(mar)\n",
        "          result=\"smile\"\n",
        "          smile+=1\n",
        "\n",
        "    for img in os.listdir(path2)[:20]:\n",
        "          image=cv2.imread(path2 +'/'+ img)\n",
        "          mar=ratio(image)\n",
        "\n",
        "          if (mar <0.32):\n",
        "            result=\"no smile\"\n",
        "            no_smile+=1\n",
        "\n",
        "    accuracy= (smile + no_smile)/40\n",
        "    print(accuracy)\n",
        "algorithm1()"
      ]
    },
    {
      "cell_type": "markdown",
      "source": [
        "Following code prints the images with landmarks\n",
        "\n",
        "4 images are printed out of 5 as the landmarks of one image is not detected"
      ],
      "metadata": {
        "id": "dpLszloCZy37"
      }
    },
    {
      "cell_type": "code",
      "execution_count": null,
      "metadata": {
        "colab": {
          "base_uri": "https://localhost:8080/",
          "height": 273
        },
        "id": "wztGH5x60nzM",
        "outputId": "f0c4828d-eaed-45a0-b036-29b2c5a6d9a5"
      },
      "outputs": [
        {
          "output_type": "display_data",
          "data": {
            "text/plain": [
              "<PIL.Image.Image image mode=RGB size=64x64>"
            ],
            "image/png": "[encoded data removed]"
          },
          "metadata": {}
        },
        {
          "output_type": "display_data",
          "data": {
            "text/plain": [
              "<PIL.Image.Image image mode=RGB size=64x64>"
            ],
            "image/png": "[encoded data removed]"
          },
          "metadata": {}
        },
        {
          "output_type": "display_data",
          "data": {
            "text/plain": [
              "<PIL.Image.Image image mode=RGB size=64x64>"
            ],
            "image/png": "[encoded data removed]"
          },
          "metadata": {}
        },
        {
          "output_type": "display_data",
          "data": {
            "text/plain": [
              "<PIL.Image.Image image mode=RGB size=64x64>"
            ],
            "image/png": "[encoded data removed]"
          },
          "metadata": {}
        }
      ],
      "source": [
        "from google.colab.patches import cv2_imshow\n",
        "import os\n",
        "path1='/content/drive/MyDrive/kaggle/smile'\n",
        "img_list=[]\n",
        "img=os.listdir(path1)\n",
        "for image in img:\n",
        "  imgpath=path1+'/'+image\n",
        "  img_list.append(cv2.imread(imgpath))\n",
        "\n",
        "for i in range(5):\n",
        "  landmarks = facelandmarks(img_list[i])\n",
        "  if len(landmarks)>0:\n",
        "      img = renderfaciallandmarks(img_list[i], landmarks[0])\n",
        "      cv2_imshow(img)"
      ]
    },
    {
      "cell_type": "markdown",
      "source": [
        "**ALGORITHM 2**\n",
        "\n",
        "Haar Cascading\n",
        "\n",
        "No output is shown as model is not able to read xml files uploaded"
      ],
      "metadata": {
        "id": "-tI-cjhhbiVJ"
      }
    },
    {
      "cell_type": "code",
      "execution_count": null,
      "metadata": {
        "id": "CAV7JmIXTpyQ"
      },
      "outputs": [],
      "source": [
        "import cv2\n",
        "import os\n",
        "def algorithm2():\n",
        "  smile=0\n",
        "  no_smile=0\n",
        "\n",
        "  facecascade=cv2.CascadeClassifier(\"/content/drive/MyDrive/kaggle/haarcascade_frontalface_default.xml\")\n",
        "  smilecascade=cv2.CascadeClassifier(\"/content/drive/MyDrive/kaggle/haarcascade_smile.xml\")\n",
        "\n",
        "  path1='/content/drive/MyDrive/kaggle/smile'\n",
        "  path2='/content/drive/MyDrive/kaggle/non_smile'\n",
        "  for img in os.listdir(path1):\n",
        "      image=cv2.imread(path1 +'/'+ img)\n",
        "      print(image)           #read image into a variable\n",
        "      gray=cv2.cvtColor(image, cv2.COLOR_BGR2GRAY)  #convert into grayscale\n",
        "      faces=facecascade.detectMultiScale(gray, scaleFactor=1.3, minNeighbors=5, minSize=(30,30))\n",
        "\n",
        "      for(x,y,w,h) in faces:\n",
        "        cv2.rectangle(image, (x,y), (x+w, y+h), (255,0,0), 2)        #draw  rectangle around face\n",
        "\n",
        "        roi_gray=gray[y:y+h, x:x+w]\n",
        "\n",
        "        smiles=smilecascade.detectMultiScale(roi_gray, scaleFactor=1.5, minNeighbors=15, minSize=(25,25))\n",
        "\n",
        "        if smiles:\n",
        "          smile+=1\n",
        "          for (sx, sy, sw, sh) in smiles:\n",
        "            cv2.rectangle(image, (sx,sy),(sx+sw, sy+sh), (0,255,0), 2)\n",
        "            print(\"smile\")\n",
        "            cv2.putText(image, \"smiling\", (x, y-30), cv2.FONT_HERSHEY_SIMPLEX, 2, (0,255,0), 3, cv2.LINE_AA)\n",
        "\n",
        "        else:\n",
        "          no_smile+=1\n",
        "\n",
        "  for img in os.listdir(path2):\n",
        "      image=cv2.imread(path2 +'/'+ img)\n",
        "      print(image)           #read image into a variable\n",
        "      gray=cv2.cvtColor(image, cv2.COLOR_BGR2GRAY)  #convert into grayscale\n",
        "      faces=facecascade.detectMultiScale(gray, scaleFactor=1.3, minNeighbors=5, minSize=(30,30))\n",
        "\n",
        "      for(x,y,w,h) in faces:\n",
        "        cv2.rectangle(image, (x,y), (x+w, y+h), (255,0,0), 2)        #draw  rectangle around face\n",
        "\n",
        "        roi_gray=gray[y:y+h, x:x+w]\n",
        "\n",
        "        smiles=smilecascade.detectMultiScale(roi_gray, scaleFactor=1.5, minNeighbors=15, minSize=(25,25))\n",
        "\n",
        "        if smiles:\n",
        "          smile+=1\n",
        "          for (sx, sy, sw, sh) in smiles:\n",
        "            cv2.rectangle(image, (sx,sy),(sx+sw, sy+sh), (0,255,0), 2)\n",
        "            print(\"smile\")\n",
        "            cv2.putText(image, \"smiling\", (x, y-30), cv2.FONT_HERSHEY_SIMPLEX, 2, (0,255,0), 3, cv2.LINE_AA)\n",
        "\n",
        "        else:\n",
        "          no_smile+=1\n",
        "\n",
        "  accuracy=(smile+no_smile)/(len(os.listdir(path1))+ len(os.listdir(path2)))\n",
        "  print(accuracy)\n",
        "\n",
        "algorithm2()"
      ]
    },
    {
      "cell_type": "markdown",
      "source": [
        "**ALGORITHM 3**\n",
        "\n",
        "CNN\n",
        "\n",
        "Dataset is divided into training and validation set"
      ],
      "metadata": {
        "id": "e7gN8hHlb9Nu"
      }
    },
    {
      "cell_type": "code",
      "execution_count": null,
      "metadata": {
        "colab": {
          "base_uri": "https://localhost:8080/"
        },
        "id": "qyzkhfy_TG7H",
        "outputId": "d940918f-89a6-4fe3-eaa2-56bb63bb74cb"
      },
      "outputs": [
        {
          "output_type": "stream",
          "name": "stdout",
          "text": [
            "(1203, 64, 64, 3)\n",
            "(1203, 3, 64, 64)\n",
            "(1082, 3, 64, 64) (1082,)\n",
            "torch.Size([1082, 3, 64, 64]) torch.Size([1082])\n",
            "torch.Size([121, 3, 64, 64]) torch.Size([121])\n"
          ]
        }
      ],
      "source": [
        "import os\n",
        "import cv2\n",
        "import numpy as np\n",
        "import torch\n",
        "\n",
        "\n",
        "\n",
        "train_img=[]\n",
        "label=[]\n",
        "\n",
        "path1='/content/drive/MyDrive/kaggle/smile'\n",
        "path2='/content/drive/MyDrive/kaggle/non_smile'\n",
        "\n",
        "for img_name in os.listdir(path1):\n",
        "\n",
        "  img=cv2.imread(path1 + '/'+img_name)\n",
        "  train_img.append(img)\n",
        "  label.append(1)\n",
        "\n",
        "for img_name in os.listdir(path2):\n",
        "\n",
        "  img=cv2.imread(path2 + '/'+img_name)\n",
        "  train_img.append(img)\n",
        "  label.append(0)\n",
        "\n",
        "train_x=np.array(train_img, dtype=np.float32)\n",
        "print(train_x.shape)\n",
        "train_x = train_x.transpose(0, 3, 1, 2)\n",
        "train_y=np.array(label)\n",
        "print(train_x.shape)\n",
        "\n",
        "from sklearn.model_selection import train_test_split\n",
        "\n",
        "train_x, val_x, train_y, val_y= train_test_split(train_x, train_y, test_size=0.1)\n",
        "\n",
        "print(train_x.shape, train_y.shape)\n",
        "\n",
        "train_x=torch.from_numpy(train_x)\n",
        "\n",
        "train_y=torch.from_numpy(train_y)\n",
        "print(train_x.shape, train_y.shape)\n",
        "\n",
        "val_x=torch.from_numpy(val_x)\n",
        "\n",
        "val_y=torch.from_numpy(val_y)\n",
        "\n",
        "print(val_x.shape, val_y.shape)"
      ]
    },
    {
      "cell_type": "markdown",
      "source": [
        "Model architecture is defined- with 4 convolutional layers"
      ],
      "metadata": {
        "id": "DrBGK1n5cXDO"
      }
    },
    {
      "cell_type": "code",
      "execution_count": null,
      "metadata": {
        "id": "v48vUxoojCnp"
      },
      "outputs": [],
      "source": [
        "\n",
        "from torch.nn import Linear, ReLU, CrossEntropyLoss, Sequential, Conv2d, MaxPool2d, Module, Softmax, BatchNorm2d,Dropout, BatchNorm1d\n",
        "class Net(Module):\n",
        "  def __init__(self):\n",
        "    super(Net,self).__init__()\n",
        "\n",
        "    self.cnn_layers= Sequential( Conv2d(3,4,kernel_size=3, stride=1, padding=1),\n",
        "                                BatchNorm2d(4),\n",
        "                                ReLU(inplace=True),\n",
        "                                MaxPool2d(kernel_size=2, stride=2),\n",
        "\n",
        "                                Conv2d(4,4,kernel_size=3, stride=1, padding=1),\n",
        "                                BatchNorm2d(4),\n",
        "                                ReLU(inplace=True),\n",
        "                                MaxPool2d(kernel_size=2, stride=2),\n",
        "\n",
        "                                Conv2d(4,6,kernel_size=3, stride=1, padding=1),\n",
        "                                BatchNorm2d(6),\n",
        "                                ReLU(inplace=True),\n",
        "                                MaxPool2d(kernel_size=2, stride=2),\n",
        "\n",
        "                                Conv2d(6,6,kernel_size=3, stride=1, padding=1),\n",
        "                                BatchNorm2d(6),\n",
        "                                ReLU(inplace=True),\n",
        "                                MaxPool2d(kernel_size=2, stride=2))\n",
        "\n",
        "    self.linear_layers=Sequential(\n",
        "        Linear(4*4*6, 16),\n",
        "        BatchNorm1d(16),\n",
        "        ReLU(inplace = True),\n",
        "        Linear(16,2)\n",
        "    )\n",
        "\n",
        "  def forward(self, x):\n",
        "      x=self.cnn_layers(x)\n",
        "      x=x.reshape(x.size(0),-1)\n",
        "      x=self.linear_layers(x)\n",
        "      return x\n"
      ]
    },
    {
      "cell_type": "markdown",
      "source": [
        "Model is optimized"
      ],
      "metadata": {
        "id": "WhuANBX2dWmz"
      }
    },
    {
      "cell_type": "code",
      "execution_count": null,
      "metadata": {
        "colab": {
          "base_uri": "https://localhost:8080/"
        },
        "id": "7p9nUfvGoBV2",
        "outputId": "9625ce6d-74fd-4504-c963-61d5ae0ebca7"
      },
      "outputs": [
        {
          "output_type": "stream",
          "name": "stdout",
          "text": [
            "Net(\n",
            "  (cnn_layers): Sequential(\n",
            "    (0): Conv2d(3, 4, kernel_size=(3, 3), stride=(1, 1), padding=(1, 1))\n",
            "    (1): BatchNorm2d(4, eps=1e-05, momentum=0.1, affine=True, track_running_stats=True)\n",
            "    (2): ReLU(inplace=True)\n",
            "    (3): MaxPool2d(kernel_size=2, stride=2, padding=0, dilation=1, ceil_mode=False)\n",
            "    (4): Conv2d(4, 4, kernel_size=(3, 3), stride=(1, 1), padding=(1, 1))\n",
            "    (5): BatchNorm2d(4, eps=1e-05, momentum=0.1, affine=True, track_running_stats=True)\n",
            "    (6): ReLU(inplace=True)\n",
            "    (7): MaxPool2d(kernel_size=2, stride=2, padding=0, dilation=1, ceil_mode=False)\n",
            "    (8): Conv2d(4, 6, kernel_size=(3, 3), stride=(1, 1), padding=(1, 1))\n",
            "    (9): BatchNorm2d(6, eps=1e-05, momentum=0.1, affine=True, track_running_stats=True)\n",
            "    (10): ReLU(inplace=True)\n",
            "    (11): MaxPool2d(kernel_size=2, stride=2, padding=0, dilation=1, ceil_mode=False)\n",
            "    (12): Conv2d(6, 6, kernel_size=(3, 3), stride=(1, 1), padding=(1, 1))\n",
            "    (13): BatchNorm2d(6, eps=1e-05, momentum=0.1, affine=True, track_running_stats=True)\n",
            "    (14): ReLU(inplace=True)\n",
            "    (15): MaxPool2d(kernel_size=2, stride=2, padding=0, dilation=1, ceil_mode=False)\n",
            "  )\n",
            "  (linear_layers): Sequential(\n",
            "    (0): Linear(in_features=96, out_features=16, bias=True)\n",
            "    (1): BatchNorm1d(16, eps=1e-05, momentum=0.1, affine=True, track_running_stats=True)\n",
            "    (2): ReLU(inplace=True)\n",
            "    (3): Linear(in_features=16, out_features=2, bias=True)\n",
            "  )\n",
            ")\n"
          ]
        }
      ],
      "source": [
        "from torch.optim import Adam\n",
        "model=Net()\n",
        "optimizer=Adam(model.parameters(), lr=1e-3)\n",
        "criterion=CrossEntropyLoss()\n",
        "\n",
        "if torch.cuda.is_available():\n",
        "  model=model.cuda()\n",
        "  criterion=criterion.cuda()\n",
        "\n",
        "print(model)\n"
      ]
    },
    {
      "cell_type": "markdown",
      "source": [
        "Model is trained and validation losses are printed\n"
      ],
      "metadata": {
        "id": "wYXMWHGuoHyO"
      }
    },
    {
      "cell_type": "code",
      "execution_count": null,
      "metadata": {
        "colab": {
          "base_uri": "https://localhost:8080/"
        },
        "id": "QF5Q995Q2Qm8",
        "outputId": "6969cec8-ff5d-4225-a26d-a5e966f9377d"
      },
      "outputs": [
        {
          "output_type": "stream",
          "name": "stdout",
          "text": [
            "epoch: 1 \t loss: 0.22568652033805847\n",
            "epoch: 11 \t loss: 0.22572927176952362\n",
            "epoch: 21 \t loss: 0.226619154214859\n",
            "epoch: 31 \t loss: 0.22673699259757996\n",
            "epoch: 41 \t loss: 0.22599636018276215\n",
            "epoch: 51 \t loss: 0.22645176947116852\n",
            "epoch: 61 \t loss: 0.22687740623950958\n",
            "epoch: 71 \t loss: 0.2279035598039627\n",
            "epoch: 81 \t loss: 0.22786156833171844\n",
            "epoch: 91 \t loss: 0.22814996540546417\n",
            "epoch: 101 \t loss: 0.22842787206172943\n",
            "epoch: 111 \t loss: 0.22855739295482635\n",
            "epoch: 121 \t loss: 0.22936150431632996\n",
            "epoch: 131 \t loss: 0.2297213226556778\n",
            "epoch: 141 \t loss: 0.23030155897140503\n",
            "epoch: 151 \t loss: 0.23036278784275055\n",
            "epoch: 161 \t loss: 0.2310149073600769\n",
            "epoch: 171 \t loss: 0.23208056390285492\n",
            "epoch: 181 \t loss: 0.2329530566930771\n",
            "epoch: 191 \t loss: 0.23412638902664185\n",
            "epoch: 201 \t loss: 0.23577050864696503\n",
            "epoch: 211 \t loss: 0.23740150034427643\n",
            "epoch: 221 \t loss: 0.23889657855033875\n",
            "epoch: 231 \t loss: 0.2397952675819397\n",
            "epoch: 241 \t loss: 0.24123525619506836\n",
            "epoch: 251 \t loss: 0.24204300343990326\n",
            "epoch: 261 \t loss: 0.24309512972831726\n",
            "epoch: 271 \t loss: 0.24360841512680054\n",
            "epoch: 281 \t loss: 0.24448348581790924\n",
            "epoch: 291 \t loss: 0.24558643996715546\n",
            "epoch: 301 \t loss: 0.24615131318569183\n",
            "epoch: 311 \t loss: 0.24721650779247284\n",
            "epoch: 321 \t loss: 0.24769596755504608\n",
            "epoch: 331 \t loss: 0.2482147216796875\n",
            "epoch: 341 \t loss: 0.2487601488828659\n",
            "epoch: 351 \t loss: 0.24983897805213928\n",
            "epoch: 361 \t loss: 0.25088322162628174\n",
            "epoch: 371 \t loss: 0.2525387406349182\n",
            "epoch: 381 \t loss: 0.2540279030799866\n",
            "epoch: 391 \t loss: 0.25530141592025757\n",
            "epoch: 401 \t loss: 0.2565268874168396\n",
            "epoch: 411 \t loss: 0.25765615701675415\n",
            "epoch: 421 \t loss: 0.258701354265213\n",
            "epoch: 431 \t loss: 0.260170578956604\n",
            "epoch: 441 \t loss: 0.26116982102394104\n",
            "epoch: 451 \t loss: 0.2623930275440216\n",
            "epoch: 461 \t loss: 0.2634722590446472\n",
            "epoch: 471 \t loss: 0.26445600390434265\n",
            "epoch: 481 \t loss: 0.265259712934494\n",
            "epoch: 491 \t loss: 0.266194611787796\n"
          ]
        }
      ],
      "source": [
        "from torch.autograd import Variable\n",
        "def train(epoch):\n",
        "  model.train()\n",
        "  tr_loss=0\n",
        "  x_train, y_train=Variable(train_x), Variable(train_y)\n",
        "  x_val, y_val=Variable(val_x), Variable(val_y)\n",
        "\n",
        "  if torch.cuda.is_available():\n",
        "    x_train=x_train.cuda()\n",
        "    y_train=y_train.cuda()\n",
        "    x_val=x_val.cuda()\n",
        "    y_val=y_val.cuda()\n",
        "\n",
        "  optimizer.zero_grad()\n",
        "  output_train=model(x_train)\n",
        "  output_val=model(x_val)\n",
        "\n",
        "  loss_train=criterion(output_train, y_train)\n",
        "  loss_val=criterion(output_val, y_val)\n",
        "\n",
        "  train_losses.append(loss_train.item())\n",
        "  val_losses.append(loss_val.item())\n",
        "\n",
        "  loss_train.backward()\n",
        "  optimizer.step()\n",
        "\n",
        "  if epoch%10==0:\n",
        "    print('epoch:', epoch+1, '\\t', 'loss:', loss_val.item())\n",
        "\n",
        "train_losses=[]\n",
        "val_losses=[]\n",
        "n_epochs=500\n",
        "for epoch in range(n_epochs):\n",
        "  train(epoch)"
      ]
    },
    {
      "cell_type": "markdown",
      "source": [
        "A visual plot of validation and training losses\n"
      ],
      "metadata": {
        "id": "QQG-y3_ooLE2"
      }
    },
    {
      "cell_type": "code",
      "execution_count": null,
      "metadata": {
        "colab": {
          "base_uri": "https://localhost:8080/",
          "height": 430
        },
        "id": "usIVWY2SV_Ap",
        "outputId": "86088a59-e05c-4d40-e7af-8ebded01bdcd"
      },
      "outputs": [
        {
          "output_type": "display_data",
          "data": {
            "text/plain": [
              "<Figure size 640x480 with 1 Axes>"
            ],
            "image/png": "[encoded data removed]"
          },
          "metadata": {}
        }
      ],
      "source": [
        "import matplotlib.pyplot as plt\n",
        "\n",
        "plt.plot(train_losses, label='Training loss')\n",
        "plt.plot(val_losses, label='Validation loss')\n",
        "plt.legend()\n",
        "plt.show()"
      ]
    },
    {
      "cell_type": "markdown",
      "source": [
        "Accuracy of training set\n"
      ],
      "metadata": {
        "id": "kX4mqcTroeZm"
      }
    },
    {
      "cell_type": "code",
      "execution_count": null,
      "metadata": {
        "id": "HMlxSM7WXR31",
        "colab": {
          "base_uri": "https://localhost:8080/"
        },
        "outputId": "682e6ebb-a8f6-482d-c76e-1cad9ba9dc89"
      },
      "outputs": [
        {
          "output_type": "stream",
          "name": "stdout",
          "text": [
            "1.0\n"
          ]
        }
      ],
      "source": [
        "from sklearn.metrics import accuracy_score\n",
        "with torch.no_grad():\n",
        "  output= model(train_x.cuda())\n",
        "\n",
        "softmax=torch.exp(output).cpu()\n",
        "prob=list(softmax.numpy())\n",
        "predictions=np.argmax(prob, axis=1)\n",
        "\n",
        "acc=accuracy_score(train_y, predictions)\n",
        "print(acc)"
      ]
    },
    {
      "cell_type": "markdown",
      "source": [
        "Accuracy of validation set"
      ],
      "metadata": {
        "id": "qsPmXb59olRO"
      }
    },
    {
      "cell_type": "code",
      "execution_count": null,
      "metadata": {
        "id": "mEfXteGbgirS",
        "colab": {
          "base_uri": "https://localhost:8080/"
        },
        "outputId": "f4af48a2-0c79-4104-e015-f458bf11c7eb"
      },
      "outputs": [
        {
          "output_type": "stream",
          "name": "stdout",
          "text": [
            "0.8842975206611571\n"
          ]
        }
      ],
      "source": [
        "with torch.no_grad():\n",
        "  output=model(val_x.cuda())\n",
        "\n",
        "softmax=torch.exp(output).cpu()\n",
        "prob=list(softmax.numpy())\n",
        "predictions=np.argmax(prob, axis=1)\n",
        "\n",
        "val_acc=accuracy_score(val_y, predictions)\n",
        "print(val_acc)"
      ]
    },
    {
      "cell_type": "code",
      "source": [],
      "metadata": {
        "id": "GNxUt5DNJjso"
      },
      "execution_count": null,
      "outputs": []
    }
  ],
  "metadata": {
    "colab": {
      "provenance": [],
      "gpuType": "T4"
    },
    "kernelspec": {
      "display_name": "Python 3",
      "name": "python3"
    },
    "language_info": {
      "name": "python"
    },
    "accelerator": "GPU"
  },
  "nbformat": 4,
  "nbformat_minor": 0
}